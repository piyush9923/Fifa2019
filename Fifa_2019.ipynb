{
 "cells": [
  {
   "cell_type": "markdown",
   "metadata": {},
   "source": [
    "1. Which Nationalities has the maximum number of players - Done\n",
    "2. Club with most no. of loaned players. - Done\n",
    "3. Clubs with most spendings on players - Done\n",
    "4. Is wage of a player related to club -Done\n",
    "5. Is wage of a player related to Age - Done\n",
    "6. Does club choose player based on overall score or International reputaion - Done"
   ]
  },
  {
   "cell_type": "code",
   "execution_count": null,
   "metadata": {
    "_cell_guid": "b1076dfc-b9ad-4769-8c92-a6c4dae69d19",
    "_uuid": "8f2839f25d086af736a60e9eeb907d3b93b6e0e5"
   },
   "outputs": [],
   "source": [
    "#Importing necessary files\n",
    "\n",
    "import numpy as np \n",
    "import pandas as pd \n",
    "import seaborn as sns\n",
    "import matplotlib.pyplot as plt\n",
    "# Standard plotly imports\n",
    "import chart_studio.plotly as py\n",
    "import plotly.graph_objs as go\n",
    "from plotly.offline import iplot, init_notebook_mode\n",
    "# Using plotly + cufflinks in offline mode\n",
    "import cufflinks\n",
    "cufflinks.go_offline(connected=True)\n",
    "init_notebook_mode(connected=True)\n",
    "\n",
    "import plotly.offline as py\n",
    "\n",
    "init_notebook_mode(connected = True)\n",
    "import plotly.graph_objs as go\n",
    "\n",
    "\n",
    "%matplotlib inline"
   ]
  },
  {
   "cell_type": "code",
   "execution_count": null,
   "metadata": {
    "_cell_guid": "79c7e3d0-c299-4dcb-8224-4455121ee9b0",
    "_uuid": "d629ff2d2480ee46fbb7e2d37f6b5fab8052498a"
   },
   "outputs": [],
   "source": [
    "#importing file\n",
    "fifa = pd.read_csv(\"../input/fifa19/data.csv\", usecols=['ID','Name','Age', 'Nationality', 'Overall', 'Club', 'Value','Wage', 'Preferred Foot', 'International Reputation', 'Loaned From', 'Height', 'Weight'])\n",
    "\n",
    "fifa.head()"
   ]
  },
  {
   "cell_type": "code",
   "execution_count": null,
   "metadata": {},
   "outputs": [],
   "source": [
    "#Converting wages to numeric value\n",
    "\n",
    "fifa[\"Wage\"] = fifa[\"Wage\"].apply(lambda x: x.replace(\"€\",\"\"))\n",
    "fifa[\"Wage\"] = fifa[\"Wage\"].apply(lambda x: x.replace(\"K\",\"000\"))\n",
    "\n",
    "fifa = fifa.astype({'Wage': 'int64'})\n"
   ]
  },
  {
   "cell_type": "code",
   "execution_count": null,
   "metadata": {},
   "outputs": [],
   "source": [
    "fifa.info()"
   ]
  },
  {
   "cell_type": "markdown",
   "metadata": {},
   "source": [
    "### Which Nationalities has the maximum number of players"
   ]
  },
  {
   "cell_type": "code",
   "execution_count": null,
   "metadata": {},
   "outputs": [],
   "source": [
    "rate = pd.DataFrame(fifa.groupby(['Nationality'])['ID'].count().reset_index())\n",
    "country_list = list(rate[\"Nationality\"])\n",
    "player_countrywise = list(rate[\"ID\"])\n",
    "\n",
    "data = dict (\n",
    "    type = 'choropleth',\n",
    "    locations = country_list,\n",
    "    locationmode='country names',\n",
    "    colorscale = ['magma_r'],\n",
    "    z=player_countrywise)"
   ]
  },
  {
   "cell_type": "code",
   "execution_count": null,
   "metadata": {},
   "outputs": [],
   "source": [
    "map = go.Figure(data=[data])\n",
    "py.offline.iplot(map)"
   ]
  },
  {
   "cell_type": "markdown",
   "metadata": {},
   "source": [
    "### Club with most no. of loaned players."
   ]
  },
  {
   "cell_type": "code",
   "execution_count": null,
   "metadata": {},
   "outputs": [],
   "source": [
    "loaned_player_data = fifa.dropna(subset=['Loaned From']).copy()\n",
    "loaned_player = loaned_player_data.groupby(by='Club').count()['Loaned From'].sort_values(ascending=False)\n",
    "loaned_player.head(5)"
   ]
  },
  {
   "cell_type": "code",
   "execution_count": null,
   "metadata": {},
   "outputs": [],
   "source": [
    "loaned_player.iloc[0:10].plot.bar(x='index')"
   ]
  },
  {
   "cell_type": "markdown",
   "metadata": {},
   "source": [
    "### Clubs with most spendings on players"
   ]
  },
  {
   "cell_type": "code",
   "execution_count": null,
   "metadata": {},
   "outputs": [],
   "source": [
    "total_wages = pd.DataFrame(fifa.groupby(\"Club\")[\"Wage\"].sum().sort_values(ascending = False))\n",
    "total = int(total_wages[:10].sum())"
   ]
  },
  {
   "cell_type": "code",
   "execution_count": null,
   "metadata": {},
   "outputs": [],
   "source": [
    "wage_list = list(total_wages[\"Wage\"])\n",
    "size = len(wage_list)-1\n",
    "count = 0\n",
    "while total>0:\n",
    "    total -= wage_list[size-count]\n",
    "    count += 1\n",
    "    \n",
    "count"
   ]
  },
  {
   "cell_type": "code",
   "execution_count": null,
   "metadata": {},
   "outputs": [],
   "source": [
    "top_wages = pd.DataFrame(fifa.groupby(\"Club\")[\"Wage\"].sum().sort_values(ascending = False).head(10))\n",
    "plt.figure(figsize=(18,8))\n",
    "plt.barh(list(top_wages.index), list(top_wages[\"Wage\"]))\n",
    "\n",
    "plt.ticklabel_format(style='plain', axis='x')\n",
    "\n",
    "\n",
    "for index, value in enumerate(list(top_wages[\"Wage\"])):\n",
    "    plt.text(value, index, str(value))\n",
    "    \n",
    "plt.legend()\n",
    "plt.show()"
   ]
  },
  {
   "cell_type": "markdown",
   "metadata": {},
   "source": [
    "### Is wage of a player related to club"
   ]
  },
  {
   "cell_type": "code",
   "execution_count": null,
   "metadata": {},
   "outputs": [],
   "source": [
    "#Droping na values for club\n",
    "fifa.isnull().sum()\n",
    "fifa.dropna(subset=['Club'], inplace= True)"
   ]
  },
  {
   "cell_type": "code",
   "execution_count": null,
   "metadata": {},
   "outputs": [],
   "source": [
    "mean_wage = pd.DataFrame(fifa.groupby(\"Club\")[\"Wage\"].mean().sort_values(ascending = False).head(10)).sort_index()"
   ]
  },
  {
   "cell_type": "code",
   "execution_count": null,
   "metadata": {},
   "outputs": [],
   "source": [
    "club_list = list(mean_wage.index)"
   ]
  },
  {
   "cell_type": "code",
   "execution_count": null,
   "metadata": {},
   "outputs": [],
   "source": [
    "df_std = fifa[[\"Club\",\"Wage\"]].copy()\n",
    "\n",
    "#df_std = pd.DataFrame(df_std[\"Club\"].apply(lambda x: x if x in club_list else np.nan))\n",
    "df_std = df_std[df_std.Club.str.contains('|'.join(club_list))]\n",
    "#df_std.dropna(inplace = True)\n",
    "df_std"
   ]
  },
  {
   "cell_type": "code",
   "execution_count": null,
   "metadata": {},
   "outputs": [],
   "source": [
    "std_wage = pd.DataFrame(df_std.groupby(\"Club\")[\"Wage\"].std().sort_values(ascending = False).head(10)).sort_index()"
   ]
  },
  {
   "cell_type": "code",
   "execution_count": null,
   "metadata": {},
   "outputs": [],
   "source": [
    "plt.bar(list(mean_wage.index),list(mean_wage[\"Wage\"]), label = \"Mean\")\n",
    "plt.bar(list(std_wage.index),list(std_wage[\"Wage\"]), label = \"Std\")\n",
    "plt.xticks(rotation=90) \n",
    "plt.legend()\n",
    "plt.show()"
   ]
  },
  {
   "cell_type": "code",
   "execution_count": null,
   "metadata": {},
   "outputs": [],
   "source": [
    "min_wage = pd.DataFrame(df_std.groupby(\"Club\")[\"Wage\"].min().sort_values(ascending = False)).sort_index()\n",
    "min_wage"
   ]
  },
  {
   "cell_type": "code",
   "execution_count": null,
   "metadata": {},
   "outputs": [],
   "source": [
    "max_wage = pd.DataFrame(df_std.groupby(\"Club\")[\"Wage\"].max().sort_values(ascending = False)).sort_index()\n",
    "max_wage"
   ]
  },
  {
   "cell_type": "code",
   "execution_count": null,
   "metadata": {},
   "outputs": [],
   "source": [
    "animals=['giraffes', 'orangutans', 'monkeys']\n",
    "max_wage_list = list(max_wage[\"Wage\"])\n",
    "min_wage_list = list(min_wage[\"Wage\"])\n",
    "\n",
    "fig = go.Figure(data=[\n",
    "    go.Bar(name='Max', x=list(max_wage.index), y=max_wage_list,text=max_wage_list,textposition='auto'),\n",
    "    go.Bar(name='Min', x=list(min_wage.index), y=min_wage_list,text=min_wage_list,textposition='auto')\n",
    "])\n",
    "# Change the bar mode\n",
    "fig.update_layout(barmode='group')\n",
    "fig.show()"
   ]
  },
  {
   "cell_type": "markdown",
   "metadata": {},
   "source": [
    "### Is wage of a player related to Age"
   ]
  },
  {
   "cell_type": "code",
   "execution_count": null,
   "metadata": {},
   "outputs": [],
   "source": [
    "age_dataframe_mean = pd.DataFrame(fifa.groupby(\"Age\")[\"Wage\"].mean())\n",
    "age_dataframe_mean.rename(columns = {'Wage':'Avg_Wage'}, inplace=True)"
   ]
  },
  {
   "cell_type": "code",
   "execution_count": null,
   "metadata": {},
   "outputs": [],
   "source": [
    "age_dataframe_std = pd.DataFrame(fifa.groupby(\"Age\")[\"Wage\"].std())\n",
    "age_dataframe_std.rename(columns = {'Wage':'Std_Wage'}, inplace=True)"
   ]
  },
  {
   "cell_type": "code",
   "execution_count": null,
   "metadata": {},
   "outputs": [],
   "source": [
    "plt.plot(list(age_dataframe_mean.index), list(age_dataframe_mean[\"Avg_Wage\"]))\n",
    "plt.plot(list(age_dataframe_std.index), list(age_dataframe_std[\"Std_Wage\"]))\n",
    "\n",
    "plt.xticks() \n",
    "plt.legend()\n",
    "plt.show()"
   ]
  },
  {
   "cell_type": "markdown",
   "metadata": {},
   "source": [
    "### Does club choose player based on overall score or International reputaion"
   ]
  },
  {
   "cell_type": "code",
   "execution_count": null,
   "metadata": {},
   "outputs": [],
   "source": [
    "corr = fifa[[\"Wage\",\"International Reputation\", \"Overall\"]].corr(method ='pearson')\n",
    "sns.heatmap(corr, \n",
    "            xticklabels=corr.columns.values,\n",
    "            yticklabels=corr.columns.values, \n",
    "            annot=True,\n",
    "           cmap=\"YlOrRd\")"
   ]
  },
  {
   "cell_type": "code",
   "execution_count": null,
   "metadata": {},
   "outputs": [],
   "source": []
  }
 ],
 "metadata": {
  "kernelspec": {
   "display_name": "Python 3",
   "language": "python",
   "name": "python3"
  },
  "language_info": {
   "codemirror_mode": {
    "name": "ipython",
    "version": 3
   },
   "file_extension": ".py",
   "mimetype": "text/x-python",
   "name": "python",
   "nbconvert_exporter": "python",
   "pygments_lexer": "ipython3",
   "version": "3.6.5"
  }
 },
 "nbformat": 4,
 "nbformat_minor": 4
}
